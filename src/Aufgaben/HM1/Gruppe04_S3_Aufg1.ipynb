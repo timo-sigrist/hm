{
 "cells": [
  {
   "cell_type": "code",
   "execution_count": null,
   "metadata": {
    "collapsed": true
   },
   "outputs": [],
   "source": [
    "import numpy as np\n",
    "\n",
    "eps = 10/2 * 10** -10\n",
    "#eps = np.finfo(float).eps\n",
    "print (eps) #0.0000000005 -> 0.000000001\n",
    "x = eps -0.0000000001\n",
    "print(x)\n",
    "print(round(1 + x, 9))\n",
    "print(round(np.sqrt(x), 9))\n",
    "print(round(x/10**9, 9))\n",
    "\n",
    "# Da unser Rechner eigentlich nicht nur mit 10 Mantissen rechnet. Daher  ist x im moment der Rechnung noch nicht 0 und kann die Operationen trotzdem durchführen."
   ]
  }
 ],
 "metadata": {
  "kernelspec": {
   "display_name": "Python 3",
   "language": "python",
   "name": "python3"
  },
  "language_info": {
   "codemirror_mode": {
    "name": "ipython",
    "version": 2
   },
   "file_extension": ".py",
   "mimetype": "text/x-python",
   "name": "python",
   "nbconvert_exporter": "python",
   "pygments_lexer": "ipython2",
   "version": "2.7.6"
  }
 },
 "nbformat": 4,
 "nbformat_minor": 0
}
