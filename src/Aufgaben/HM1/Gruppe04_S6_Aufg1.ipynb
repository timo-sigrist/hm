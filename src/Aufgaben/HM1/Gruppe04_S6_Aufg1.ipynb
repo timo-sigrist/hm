{
 "cells": [
  {
   "cell_type": "code",
   "execution_count": 43,
   "metadata": {
    "collapsed": true
   },
   "outputs": [
    {
     "name": "stdout",
     "output_type": "stream",
     "text": [
      "Newton-Verfahren\n",
      "x0: 1.795\n",
      "x1: 1.6251\n",
      "x2: 1.5308\n",
      "x3: 1.5086\n",
      "--------------------------------\n",
      "Vereinfachtes Newton-Verfahren\n",
      "x0: 0.4847\n",
      "x1: 0.4856\n",
      "x2: 0.4856\n",
      "x3: 0.4856\n",
      "--------------------------------\n",
      "Sekanten-Verfahren\n",
      "x0: -1.2\n",
      "x1: -1.861\n",
      "x2: -1.3494\n",
      "x3: -1.4326\n"
     ]
    }
   ],
   "source": [
    "import numpy as np\n",
    "\n",
    "FC = 1\n",
    "BC = 1\n",
    "EC = 1\n",
    "flugzeugTypA = 20*FC + 50*BC + 200*EC\n",
    "flugzeugTypB = 10*FC + 30*BC + 150*EC\n",
    "flugzeugTypC = 0*FC + 20*BC + 100*EC\n",
    "\n",
    "passagiere = 2770\n"
   ]
  },
  {
   "cell_type": "code",
   "execution_count": null,
   "outputs": [],
   "source": [],
   "metadata": {
    "collapsed": false
   }
  }
 ],
 "metadata": {
  "kernelspec": {
   "display_name": "Python 3",
   "language": "python",
   "name": "python3"
  },
  "language_info": {
   "codemirror_mode": {
    "name": "ipython",
    "version": 2
   },
   "file_extension": ".py",
   "mimetype": "text/x-python",
   "name": "python",
   "nbconvert_exporter": "python",
   "pygments_lexer": "ipython2",
   "version": "2.7.6"
  }
 },
 "nbformat": 4,
 "nbformat_minor": 0
}
