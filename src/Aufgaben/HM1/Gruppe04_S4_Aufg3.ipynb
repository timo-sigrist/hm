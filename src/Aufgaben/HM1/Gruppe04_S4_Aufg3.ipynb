{
 "cells": [
  {
   "cell_type": "markdown",
   "source": [
    "# Aufgabe 3a"
   ],
   "metadata": {
    "collapsed": false
   }
  },
  {
   "cell_type": "code",
   "execution_count": 19,
   "metadata": {
    "collapsed": true
   },
   "outputs": [
    {
     "name": "stdout",
     "output_type": "stream",
     "text": [
      "25.2313252202016\n",
      "Beweis, dass sin(phi) - phi = -0.5 * pi gilt:\n",
      "-1.5707963267948966\n",
      "-1.5707963267948966\n"
     ]
    }
   ],
   "source": [
    "import numpy as np\n",
    "import matplotlib.pyplot as plt\n",
    "\n",
    "#VZ = 2000 dm^3\n",
    "# 2000 = np.pi * r**2 * l\n",
    "\n",
    "V = 2000\n",
    "hOel = V * 0.75\n",
    "#Kreissegment = 0.5 * r**2 * (phi - np.sin(phi))\n",
    "#V - hOel = Kreissegment\n",
    "#500 = 0.5 * r**2 * (phi - sin(phi))\n",
    "#500 = 0.5 * r**2 * phi - 0.5 * r**2 * sin(phi)\n",
    "# 500 / 0.5 * r**2 = phi - sin(phi)\n",
    "\n",
    "# sin(phi) -phi = -500 / 0.5 * r**2 | Gleichsetzen | sin(phi) - phi = -0.5 * pi\n",
    "# -0.5 * pi  = -500 / (0.5 * r**2) | * (0.5 * r**2)\n",
    "# -0.5 * pi * 0.5 * r**2 = -500 | / -0.5 * pi * 0.5\n",
    "# r**2 = -500 / (-0.5 * pi * 0.5) | sqrt()\n",
    "#r = sqrt(-500 / (-0.5 * pi * 0.5))\n",
    "r = np.sqrt(-500 / (-0.5 * np.pi * 0.5))\n",
    "print(r)\n",
    "\n",
    "#Nach phi auflösen\n",
    "# sin(phi) -phi = -500 / (0.5 * r**2) | radius eingesetzt und ausgerechnet\n",
    "# -phi + sin(phi)= -500 / (0.5*636.553) | 0.5 * 636.553 = 318.276\n",
    "#-phi + sin(phi)= -500 / 318.276 | -500 / 318.276 = -1.571\n",
    "#-phi * sin(phi) = - 1.571 | + 1.571\n",
    "#-phi + sin(phi)+1.571 = 0\n",
    "# phi = 2.31\n",
    "\n",
    "\n",
    "print(\"Beweis, dass sin(phi) - phi = -0.5 * pi gilt:\")\n",
    "print(-500 / (0.5 * r**2))\n",
    "print(-0.5 * np.pi)\n"
   ]
  },
  {
   "cell_type": "markdown",
   "source": [
    "# Aufgabe 3b"
   ],
   "metadata": {
    "collapsed": false
   }
  },
  {
   "cell_type": "code",
   "execution_count": 17,
   "outputs": [
    {
     "name": "stdout",
     "output_type": "stream",
     "text": [
      "[-1.47096291 -2.56581711 -2.11528179 -2.42619025 -2.22671754 -2.36328275\n",
      " -2.27287323 -2.33429889 -2.29321491 -2.32100508 -2.30234288 -2.31493849\n",
      " -2.30646555 -2.31217814 -2.30833244 -2.31092401 -2.30917878 -2.31035461\n",
      " -2.30956266 -2.31009617 -2.30973681 -2.30997889 -2.30981583 -2.30992567\n",
      " -2.30985168 -2.30990152 -2.30986795 -2.30989056 -2.30987533]\n",
      "Fixpunkt von phi: -2.3098753284025393\n"
     ]
    },
    {
     "data": {
      "text/plain": "[<matplotlib.lines.Line2D at 0x200da9674c0>]"
     },
     "execution_count": 17,
     "metadata": {},
     "output_type": "execute_result"
    },
    {
     "data": {
      "text/plain": "<Figure size 640x480 with 1 Axes>",
      "image/png": "[encoded data removed]"
     },
     "metadata": {},
     "output_type": "display_data"
    }
   ],
   "source": [
    "# sin(phi) - phi = -0.5 * pi | + (-0.5 * pi), + phi\n",
    "#Fixpunktformel:  sin(phi) -0.5 * pi = phi\n",
    "\n",
    "def fixpunkt(startwert,xAchse):\n",
    "    values = np.array([])\n",
    "    xn = startwert\n",
    "    for i in xAchse:\n",
    "        xn = np.sin(xn) -0.5 * np.pi\n",
    "        values = np.append(values, [xn])\n",
    "    return values\n",
    "\n",
    "xAchse = np.arange(1,30,1)\n",
    "xnVals = fixpunkt(0.1, xAchse)\n",
    "print(xnVals)\n",
    "print(\"Fixpunkt von phi: \"+ str(xnVals[xnVals.size-1]))\n",
    "\n",
    "plt.plot(xAchse, xnVals)\n"
   ],
   "metadata": {
    "collapsed": false
   }
  },
  {
   "cell_type": "markdown",
   "source": [
    "# Aufgabe 3c"
   ],
   "metadata": {
    "collapsed": false
   }
  },
  {
   "cell_type": "code",
   "execution_count": null,
   "outputs": [],
   "source": [
    "# Umso kleiner phi umso grösser h"
   ],
   "metadata": {
    "collapsed": false
   }
  }
 ],
 "metadata": {
  "kernelspec": {
   "display_name": "Python 3",
   "language": "python",
   "name": "python3"
  },
  "language_info": {
   "codemirror_mode": {
    "name": "ipython",
    "version": 2
   },
   "file_extension": ".py",
   "mimetype": "text/x-python",
   "name": "python",
   "nbconvert_exporter": "python",
   "pygments_lexer": "ipython2",
   "version": "2.7.6"
  }
 },
 "nbformat": 4,
 "nbformat_minor": 0
}
