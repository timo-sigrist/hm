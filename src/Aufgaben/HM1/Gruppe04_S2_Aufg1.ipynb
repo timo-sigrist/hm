{
 "cells": [
  {
   "cell_type": "markdown",
   "source": [
    "Aufgabe 1\n",
    "In dieser Aufgabe wird die normierte Form mit 1 nach der Kommastelle genommen.\n",
    "\n",
    "a) 2^(n-1)^ * 2(da Vorzeichen)  = 2^n^ -> 5 Stellig + vorzeichen =  2^6^\n",
    "   2(vorzeichen) * 2^15-1^ (15 mantisen) = 2^15^\n",
    "   2^15^ + 2^6^ + 1(wegen 0) = 2^21^ + 1\n",
    "   Resultat = 2^21^ + 1\n",
    "\n",
    "b) 0.1 * 10^16^\n",
    "    0.00000000000000015 -> 0.0000000000000002 Fehler: 0.5 * 10^-15^\n",
    "    Mit der Formel kommt man ebenfalls auf eps = 1/2 * 10^1-16^\n",
    "\n",
    "c)\n",
    "    espBinär = 0.5*2^-51^ = 0.2220446049 * 10^-17^\n",
    "    espHexa = 0.5*16^-13^ = 0.1110223025 * 10^-17^\n",
    "\n",
    "Daraus folgt, dass die Hexadezimalzahl trotz dem kleineren Mantisse trotzdem einen kleineren\n",
    "maximalen relativen Fehler vorweist"
   ],
   "metadata": {
    "collapsed": false
   }
  },
  {
   "cell_type": "markdown",
   "source": [],
   "metadata": {
    "collapsed": false
   }
  },
  {
   "cell_type": "markdown",
   "source": [],
   "metadata": {
    "collapsed": false
   }
  }
 ],
 "metadata": {
  "kernelspec": {
   "display_name": "Python 3",
   "language": "python",
   "name": "python3"
  },
  "language_info": {
   "codemirror_mode": {
    "name": "ipython",
    "version": 2
   },
   "file_extension": ".py",
   "mimetype": "text/x-python",
   "name": "python",
   "nbconvert_exporter": "python",
   "pygments_lexer": "ipython2",
   "version": "2.7.6"
  }
 },
 "nbformat": 4,
 "nbformat_minor": 0
}
