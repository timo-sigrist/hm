{
 "cells": [
  {
   "cell_type": "code",
   "execution_count": 10,
   "metadata": {
    "collapsed": true
   },
   "outputs": [
    {
     "name": "stdout",
     "output_type": "stream",
     "text": [
      "x0:\n",
      "[[ 2.25      ]\n",
      " [-0.33333333]\n",
      " [ 4.57142857]]\n",
      "x1:\n",
      "[[ 1.44047619]\n",
      " [-1.20238095]\n",
      " [ 3.66666667]]\n",
      "x2:\n",
      "[[ 2.20982143]\n",
      " [-0.6521164 ]\n",
      " [ 4.37755102]]\n",
      "x3:\n",
      "[[ 1.688185  ]\n",
      " [-1.15851757]\n",
      " [ 3.78070673]]\n"
     ]
    }
   ],
   "source": [
    "import numpy as np\n",
    "import matplotlib.pyplot as plt\n",
    "import sys\n",
    "\n",
    "def matrix_solver(n, A, b):\n",
    "    # Making numpy array of n size and initializing\n",
    "    # to zero for storing solution vector\n",
    "    x = np.zeros(n)\n",
    "\n",
    "    # Append vector b to matrix A\n",
    "    A = np.c_[A, b]\n",
    "\n",
    "    # Applying Gauss Elimination\n",
    "    for i in range(n):\n",
    "        if A[i][i] == 0.0:\n",
    "            sys.exit('Divide by zero detected!')\n",
    "\n",
    "        for j in range(i+1, n):\n",
    "            ratio = A[j][i] / A[i][i]\n",
    "\n",
    "            for k in range(n+1):\n",
    "                A[j][k] = A[j][k] - ratio * A[i][k]\n",
    "\n",
    "    # Back Substitution\n",
    "    x[n-1] = A[n - 1][n] / A[n - 1][n - 1]\n",
    "\n",
    "    for i in range(n-2,-1,-1):\n",
    "        x[i] = A[i][n]\n",
    "\n",
    "        for j in range(i+1,n):\n",
    "            x[i] = x[i] - A[i][j] * x[j]\n",
    "\n",
    "        x[i] = x[i] / A[i][i]\n",
    "\n",
    "    return x\n",
    "\n",
    "# A = np.array([[8,5,2],[5,9,1],[4,2,7]])\n",
    "# b = np.array([[19],[5],[34]])\n",
    "# x = matrix_solver(3, A, b)\n",
    "\n",
    "A = np.array([[0,5/8,1/4],[5/9,0,1/9],[4/7,2/7,0]])\n",
    "x = np.array([[1],[-1],[3]])\n",
    "b = np.array([[19/8],[5/9],[34/7]])\n",
    "\n",
    "for i in range(4):\n",
    "    x = np.dot(-A,x) + b\n",
    "    print(\"x\" + str(i) + \":\")\n",
    "    print(x)"
   ]
  },
  {
   "cell_type": "code",
   "execution_count": null,
   "outputs": [],
   "source": [],
   "metadata": {
    "collapsed": false
   }
  }
 ],
 "metadata": {
  "kernelspec": {
   "display_name": "Python 3",
   "language": "python",
   "name": "python3"
  },
  "language_info": {
   "codemirror_mode": {
    "name": "ipython",
    "version": 2
   },
   "file_extension": ".py",
   "mimetype": "text/x-python",
   "name": "python",
   "nbconvert_exporter": "python",
   "pygments_lexer": "ipython2",
   "version": "2.7.6"
  }
 },
 "nbformat": 4,
 "nbformat_minor": 0
}
