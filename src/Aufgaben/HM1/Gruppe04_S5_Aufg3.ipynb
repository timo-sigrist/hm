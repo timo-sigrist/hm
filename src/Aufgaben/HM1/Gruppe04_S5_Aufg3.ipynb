{
 "cells": [
  {
   "cell_type": "code",
   "execution_count": 22,
   "metadata": {
    "collapsed": true
   },
   "outputs": [
    {
     "name": "stdout",
     "output_type": "stream",
     "text": [
      "Vergleich zu Aufgabe 1\n",
      "-1.5265347852579538\n",
      "--------------------------------\n",
      "Vergleich zu Aufgabe 2\n",
      "8.037174153687742\n"
     ]
    }
   ],
   "source": [
    "import numpy as np\n",
    "\n",
    "# Wo würden Sie beim Versuch, das Newton-Verfahren zu implementieren, momentan noch\n",
    "# auf Schwierigkeiten stossen?\n",
    "# Beim Newton-Verfahren müssten wir dynamisch die Ableitung unserer Funktion f erstellen, was zu Schwierigkeiten führen kann.\n",
    "\n",
    "def x_plus_sekanten(f, x0, x1):\n",
    "    return x1 - (((x1 - x0) / (f(x1)-f(x0))) * f(x1))\n",
    "\n",
    "def sekanten_verfahren(f, x0, x1, tol):\n",
    "    while np.absolute(x0 - x1) > tol:\n",
    "        zwischenresultat = x_plus_sekanten(f, x0, x1)\n",
    "        x0 = x1\n",
    "        x1 = zwischenresultat\n",
    "    return x1\n",
    "\n",
    "print('Vergleich zu Aufgabe 1')\n",
    "\n",
    "def f_aufgabe1(x):\n",
    "    return (np.e**(x**2) + x**-3) -10\n",
    "\n",
    "toleranz = 10**-4\n",
    "print(sekanten_verfahren(f_aufgabe1, -1.0, -1.2, toleranz))\n",
    "\n",
    "print('--------------------------------')\n",
    "\n",
    "print('Vergleich zu Aufgabe 2')\n",
    "\n",
    "r = 5\n",
    "def f_aufgabe2(h):\n",
    "    return (np.pi/3) * h**2 * (3*r-h) - 471\n",
    "\n",
    "toleranz = 10**-4\n",
    "print(sekanten_verfahren(f_aufgabe2, 9, 8.9, toleranz))"
   ]
  }
 ],
 "metadata": {
  "kernelspec": {
   "display_name": "Python 3",
   "language": "python",
   "name": "python3"
  },
  "language_info": {
   "codemirror_mode": {
    "name": "ipython",
    "version": 2
   },
   "file_extension": ".py",
   "mimetype": "text/x-python",
   "name": "python",
   "nbconvert_exporter": "python",
   "pygments_lexer": "ipython2",
   "version": "2.7.6"
  }
 },
 "nbformat": 4,
 "nbformat_minor": 0
}
