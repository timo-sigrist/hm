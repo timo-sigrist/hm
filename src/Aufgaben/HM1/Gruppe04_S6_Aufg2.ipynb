{
 "cells": [
  {
   "cell_type": "code",
   "execution_count": 4,
   "metadata": {
    "collapsed": true
   },
   "outputs": [
    {
     "name": "stdout",
     "output_type": "stream",
     "text": [
      "Enter Matrix A:\n",
      "\n",
      "Solution: \n",
      "x0 = -0.9966680000000001\n",
      "x1 = 1.0\n",
      "x2 = 0.998334\n",
      "Obere Dreiecksmatrix: \n",
      "1.0 0.0 2.0\n",
      "0.0 1.0 0.0\n",
      "0.0 0.0 -0.0001\n",
      "Determinante von Matrix A = -0.0001\n"
     ]
    }
   ],
   "source": [
    "import numpy as np\n",
    "import sys\n",
    "\n",
    "\n",
    "# input number of unknowns\n",
    "n = int(input('Enter number of unknowns: '))\n",
    "\n",
    "# Making numpy array of n x n+1 size and initializing\n",
    "# to zero for storing augmented matrix\n",
    "A = np.zeros((n, n + 1))\n",
    "\n",
    "# input augmented matrix coefficients\n",
    "print('Enter Matrix A:')\n",
    "for i in range(n):\n",
    "    for j in range(n+1):\n",
    "        A[i][j] = float(input('a[' + str(i) + '][' + str(j) + ']='))\n",
    "\n",
    "# copy for determinante\n",
    "A2 = A\n",
    "\n",
    "def matrix_solver(n, A):\n",
    "    # Making numpy array of n size and initializing\n",
    "    # to zero for storing solution vector\n",
    "    x = np.zeros(n)\n",
    "\n",
    "    # Applying Gauss Elimination\n",
    "    for i in range(n):\n",
    "        if A[i][i] == 0.0:\n",
    "            sys.exit('Divide by zero detected!')\n",
    "\n",
    "        for j in range(i+1, n):\n",
    "            ratio = A[j][i] / A[i][i]\n",
    "\n",
    "            for k in range(n+1):\n",
    "                A[j][k] = A[j][k] - ratio * A[i][k]\n",
    "\n",
    "    # Back Substitution\n",
    "    x[n-1] = A[n - 1][n] / A[n - 1][n - 1]\n",
    "\n",
    "    for i in range(n-2,-1,-1):\n",
    "        x[i] = A[i][n]\n",
    "\n",
    "        for j in range(i+1,n):\n",
    "            x[i] = x[i] - A[i][j] * x[j]\n",
    "\n",
    "        x[i] = x[i] / A[i][i]\n",
    "\n",
    "    return x\n",
    "\n",
    "def determinante(A2):\n",
    "    res = (A2[0][0] * A2[1][1] * A2[2][2]) + (A2[1][0] * A2[2][1] * A2[0][2]) + (A2[2][0] * A2[0][1] * A2[1][2]) - \\\n",
    "          (A2[0][0] * A2[2][1] * A2[1][2]) - (A2[1][0] * A2[0][1] * A2[2][2]) - (A2[2][0] * A2[1][1] * A2[0][2])\n",
    "    return res\n",
    "\n",
    "x = matrix_solver(n, A)\n",
    "# Displaying solution\n",
    "print('\\nSolution: ')\n",
    "for i in range(n):\n",
    "    print('x' + str(i) + ' = ' + str(x[i]))\n",
    "\n",
    "print('Obere Dreiecksmatrix: ')\n",
    "print(str(A[0][0]) + ' ' + str(A[0][1]) + ' ' + str(A[0][2]))\n",
    "print(str(A[1][0]) + ' ' + str(A[1][1]) + ' ' + str(A[1][2]))\n",
    "print(str(A[2][0]) + ' ' + str(A[2][1]) + ' ' + str(A[2][2]))\n",
    "print('Determinante von Matrix A = ' + str(determinante(A2)))"
   ]
  },
  {
   "cell_type": "code",
   "execution_count": null,
   "outputs": [],
   "source": [],
   "metadata": {
    "collapsed": false
   }
  }
 ],
 "metadata": {
  "kernelspec": {
   "display_name": "Python 3",
   "language": "python",
   "name": "python3"
  },
  "language_info": {
   "codemirror_mode": {
    "name": "ipython",
    "version": 2
   },
   "file_extension": ".py",
   "mimetype": "text/x-python",
   "name": "python",
   "nbconvert_exporter": "python",
   "pygments_lexer": "ipython2",
   "version": "2.7.6"
  }
 },
 "nbformat": 4,
 "nbformat_minor": 0
}
