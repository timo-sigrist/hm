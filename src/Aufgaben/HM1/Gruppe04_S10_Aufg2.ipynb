{
 "cells": [
  {
   "cell_type": "code",
   "execution_count": 7,
   "metadata": {
    "collapsed": true
   },
   "outputs": [
    {
     "name": "stdout",
     "output_type": "stream",
     "text": [
      "x0: [ 1 -1  3]\n",
      "x1: [ 2.25   -0.343   4.5714]\n",
      "x2: [ 1.446525  -1.2249254  3.6694451]\n",
      "x3: [ 2.2232171  -0.67004156  4.3805168 ]\n",
      "x4: [ 1.69864677 -1.18857824  3.77818462]\n"
     ]
    }
   ],
   "source": [
    "import numpy as np\n",
    "\n",
    "x0 = np.array([1,-1, 3])\n",
    "\n",
    "x = x0\n",
    "for i in range(0,5):\n",
    "    print(\"x\"+str(i)+\": \" + str(x))\n",
    "    xk = 2.375 - 0.625 * x[1] - 0.25 * x[2]\n",
    "    yk = 0.556 - 0.566 * x[0] - 0.111 * x[2]\n",
    "    zk = 4.8571 - 0.5714 * x[0] - 0.2857 * x[1]\n",
    "    x = np.array([xk,yk,zk])\n"
   ]
  }
 ],
 "metadata": {
  "kernelspec": {
   "display_name": "Python 3",
   "language": "python",
   "name": "python3"
  },
  "language_info": {
   "codemirror_mode": {
    "name": "ipython",
    "version": 2
   },
   "file_extension": ".py",
   "mimetype": "text/x-python",
   "name": "python",
   "nbconvert_exporter": "python",
   "pygments_lexer": "ipython2",
   "version": "2.7.6"
  }
 },
 "nbformat": 4,
 "nbformat_minor": 0
}
