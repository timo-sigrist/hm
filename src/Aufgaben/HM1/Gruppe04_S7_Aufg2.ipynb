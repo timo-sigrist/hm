{
 "cells": [
  {
   "cell_type": "code",
   "execution_count": 3,
   "metadata": {
    "collapsed": true
   },
   "outputs": [
    {
     "name": "stdout",
     "output_type": "stream",
     "text": [
      "[[0. 1. 0.]\n",
      " [1. 0. 0.]\n",
      " [0. 0. 1.]]\n",
      "[[1.  0.  0. ]\n",
      " [0.4 1.  0. ]\n",
      " [0.6 0.2 1. ]]\n",
      "[[2. 3. 4.]\n",
      " [0. 1. 2.]\n",
      " [0. 0. 3.]]\n"
     ]
    }
   ],
   "source": [
    "import numpy as np\n",
    "import scipy.linalg as la\n",
    "\n",
    "A = np.array([[0.8,2.2,3.6], [2.0,3.0,4.0],[1.2,2.0,5.8]])\n",
    "b = np.array([2.4,1.0,4.0])\n",
    "(P, L, R) = la.lu(A)\n",
    "print (P)\n",
    "print (L)\n",
    "print (R)"
   ]
  }
 ],
 "metadata": {
  "kernelspec": {
   "display_name": "Python 3",
   "language": "python",
   "name": "python3"
  },
  "language_info": {
   "codemirror_mode": {
    "name": "ipython",
    "version": 2
   },
   "file_extension": ".py",
   "mimetype": "text/x-python",
   "name": "python",
   "nbconvert_exporter": "python",
   "pygments_lexer": "ipython2",
   "version": "2.7.6"
  }
 },
 "nbformat": 4,
 "nbformat_minor": 0
}
