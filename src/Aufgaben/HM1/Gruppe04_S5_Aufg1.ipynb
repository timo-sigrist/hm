{
 "cells": [
  {
   "cell_type": "code",
   "execution_count": 43,
   "metadata": {
    "collapsed": true
   },
   "outputs": [
    {
     "name": "stdout",
     "output_type": "stream",
     "text": [
      "Newton-Verfahren\n",
      "x0: 1.795\n",
      "x1: 1.6251\n",
      "x2: 1.5308\n",
      "x3: 1.5086\n",
      "--------------------------------\n",
      "Vereinfachtes Newton-Verfahren\n",
      "x0: 0.4847\n",
      "x1: 0.4856\n",
      "x2: 0.4856\n",
      "x3: 0.4856\n",
      "--------------------------------\n",
      "Sekanten-Verfahren\n",
      "x0: -1.2\n",
      "x1: -1.861\n",
      "x2: -1.3494\n",
      "x3: -1.4326\n"
     ]
    }
   ],
   "source": [
    "import numpy as np\n",
    "\n",
    "def f(x):\n",
    "    return (np.e**(x**2) + x**-3) -10\n",
    "\n",
    "def f_abl(x):\n",
    "    return 2*x*np.e**x**2 - 3/x**4\n",
    "\n",
    "def x_plus_newton(x):\n",
    "    return x - f(x)/f_abl(x)\n",
    "\n",
    "def x_plus_newton_vereinfacht(x, x0):\n",
    "    return x - f(x)/f_abl(x0)\n",
    "\n",
    "def x_plus_sekanten(x0, x1):\n",
    "    return x1 - (((x1 - x0) / (f(x1)-f(x0))) * f(x1))\n",
    "\n",
    "print('Newton-Verfahren')\n",
    "x0 = 2\n",
    "for x in range(0,4):\n",
    "    x0 = x_plus_newton(x0)\n",
    "    print('x'+ str(x) + ': ' + str(np.round(x0,4)))\n",
    "\n",
    "print('--------------------------------')\n",
    "\n",
    "print('Vereinfachtes Newton-Verfahren')\n",
    "x0 = 0.5\n",
    "for x in range(0,4):\n",
    "    x0 = x_plus_newton_vereinfacht(x0, x0)\n",
    "    print('x'+ str(x) + ': ' + str(np.round(x0,4)))\n",
    "\n",
    "print('--------------------------------')\n",
    "\n",
    "print('Sekanten-Verfahren')\n",
    "x0 = -1.0\n",
    "x1 = -1.2\n",
    "for x in range(0,4):\n",
    "    x_plus = x_plus_sekanten(x0, x1)\n",
    "    x0 = x1\n",
    "    x1 = x_plus\n",
    "    print('x'+ str(x) + ': ' + str(np.round(x0,4)))\n"
   ]
  },
  {
   "cell_type": "code",
   "execution_count": null,
   "outputs": [],
   "source": [],
   "metadata": {
    "collapsed": false
   }
  }
 ],
 "metadata": {
  "kernelspec": {
   "display_name": "Python 3",
   "language": "python",
   "name": "python3"
  },
  "language_info": {
   "codemirror_mode": {
    "name": "ipython",
    "version": 2
   },
   "file_extension": ".py",
   "mimetype": "text/x-python",
   "name": "python",
   "nbconvert_exporter": "python",
   "pygments_lexer": "ipython2",
   "version": "2.7.6"
  }
 },
 "nbformat": 4,
 "nbformat_minor": 0
}
