{
 "cells": [
  {
   "cell_type": "code",
   "execution_count": 43,
   "metadata": {
    "collapsed": true
   },
   "outputs": [
    {
     "name": "stdout",
     "output_type": "stream",
     "text": [
      "Maschinengenauigkeit: \n",
      "52\n",
      "2.220446049250313e-16\n",
      "2.220446049250313e-16\n"
     ]
    }
   ],
   "source": [
    "import numpy as np\n",
    "import matplotlib as plt\n",
    "\n",
    "n = 0\n",
    "eps = 0\n",
    "while 1 + 2**-n > 1:\n",
    "    eps = 2**-n\n",
    "    n += 1\n",
    "\n",
    "print(\"Maschinengenauigkeit: \")\n",
    "n -= 1 # weil wir eins zu weit sind\n",
    "print(n)\n",
    "print(eps)\n",
    "print(np.finfo(float).eps)"
   ]
  },
  {
   "cell_type": "code",
   "execution_count": 37,
   "outputs": [
    {
     "name": "stdout",
     "output_type": "stream",
     "text": [
      "9007199254740991.0\n",
      "9007199254740991\n"
     ]
    }
   ],
   "source": [
    "qmax = float(9007199254740990.0)\n",
    "while 1 + qmax > qmax:\n",
    "    qmax += 1\n",
    "qmax -= 1 # weil wir eins zu weit sind.\n",
    "print(qmax)\n",
    "\n",
    "# Lässt sich qmax direkt aus eps berechnen?\n",
    "# Ja, weil wir mit der Basis 2 und dem Exponenten (n von eps + 1) auf die qmax kommen\n",
    "print(2**(52+1)-1)"
   ],
   "metadata": {
    "collapsed": false
   }
  },
  {
   "cell_type": "code",
   "execution_count": null,
   "outputs": [],
   "source": [],
   "metadata": {
    "collapsed": false
   }
  }
 ],
 "metadata": {
  "kernelspec": {
   "display_name": "Python 3",
   "language": "python",
   "name": "python3"
  },
  "language_info": {
   "codemirror_mode": {
    "name": "ipython",
    "version": 2
   },
   "file_extension": ".py",
   "mimetype": "text/x-python",
   "name": "python",
   "nbconvert_exporter": "python",
   "pygments_lexer": "ipython2",
   "version": "2.7.6"
  }
 },
 "nbformat": 4,
 "nbformat_minor": 0
}
