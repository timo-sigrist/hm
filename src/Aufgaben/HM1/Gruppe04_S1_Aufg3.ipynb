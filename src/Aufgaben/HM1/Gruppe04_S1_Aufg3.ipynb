{
 "cells": [
  {
   "cell_type": "code",
   "execution_count": 30,
   "metadata": {
    "collapsed": true
   },
   "outputs": [
    {
     "name": "stdout",
     "output_type": "stream",
     "text": [
      "[0.15303560008760542, 0.10341480001807213, 0.2042749000247568, 0.06523089995607734, 0.07064859999809414]\n",
      "[4.349998198449612e-05, 4.139996599406004e-05, 4.139996599406004e-05, 4.1599967516958714e-05, 7.030006963759661e-05]\n",
      "9680322675255249156123346514615331205418161260462873360750859919944104623425228207640470674933540169424682360525991982916161596983449594045525553704253602287443197783274656957056546338783001340434094795097553229620273057440272298773179365935914105128629426348958748638226084106818484328004851174161755668480000000000000000000000000000000000000000000000\n",
      "<class 'int'>\n",
      "788657867364790503552363213932185062295135977687173263294742533244359449963403342920304284011984623904177212138919638830257642790242637105061926624952829931113462857270763317237396988943922445621451664240254033291864131227428294853277524242407573903240321257405579568660226031904170324062351700858796178922222789623703897374720000000000000000000000000000000000000000000000000\n",
      "<class 'int'>\n",
      "7.257415615307994e+306\n",
      "<class 'numpy.float64'>\n",
      "inf\n",
      "<class 'numpy.float64'>\n"
     ]
    },
    {
     "name": "stderr",
     "output_type": "stream",
     "text": [
      "C:\\Users\\Dario\\AppData\\Local\\Temp\\ipykernel_16452\\4138299519.py:12: RuntimeWarning: overflow encountered in double_scalars\n",
      "  return n*fact_rec(n-1)\n"
     ]
    }
   ],
   "source": [
    "import timeit\n",
    "import numpy as np\n",
    "\n",
    "# y = fact_rec(n) berechnet die Fakultät von n als fact_rec(n) = n * fact_rec(n -1) mit fact_rec(0) = 1\n",
    "# Fehler, falls n < 0 oder nicht ganzzahlig\n",
    "def fact_rec(n):\n",
    "    if n < 0 or np.trunc(n) != n:\n",
    "        raise Exception('The factorial is defined only for positive integers')\n",
    "    if n <=1:\n",
    "        return 1\n",
    "    else:\n",
    "        return n*fact_rec(n-1)\n",
    "\n",
    "def fact_for(n):\n",
    "    if isinstance(n,int) and n >= 0:\n",
    "        if n == 0:\n",
    "            return 1\n",
    "        else:\n",
    "            factorial = 1\n",
    "            for x in range(1,n+1):\n",
    "                factorial = factorial * x\n",
    "                return factorial\n",
    "            else:\n",
    "                return \"Not a valid input.\"\n",
    "\n",
    "t1=timeit.repeat(\"fact_rec(500)\", \"from __main__ import fact_rec\", number=100)\n",
    "t2=timeit.repeat(\"fact_for(500)\", \"from __main__ import fact_for\", number=100)\n",
    "print(t1)\n",
    "print(t2)\n",
    "\n",
    "# Welche der beiden Funktionen ist schneller und um was für einen Faktor? Weshalb?\n",
    "# Der Loop ist effizienter, da der zusätzliche Funktionsaufruf bei der Rekursion Mehraufwand bedeutet.\n",
    "\n",
    "fact_rec_190=fact_rec(190)\n",
    "fact_rec_200=fact_rec(200)\n",
    "print(fact_rec_190)\n",
    "print(type(fact_rec_190))\n",
    "print(fact_rec_200)\n",
    "print(type(fact_rec_200))\n",
    "\n",
    "fact_rec_170=fact_rec(np.float64(170))\n",
    "fact_rec_171=fact_rec(np.float64(171))\n",
    "print(fact_rec_170)\n",
    "print(type(fact_rec_170))\n",
    "print(fact_rec_171)\n",
    "print(type(fact_rec_171))\n",
    "\n",
    "# Gibt es in Python eine obere Grenze für die Fakultät von n\n",
    "# inf\n",
    "# <class 'numpy.float64'>\n",
    "# C:\\Users\\Dario\\AppData\\Local\\Temp\\ipykernel_16452\\2440627387.py:13: RuntimeWarning: overflow encountered in double_scalars\n",
    "# return n*fact_rec(n-1)"
   ]
  },
  {
   "cell_type": "code",
   "execution_count": null,
   "outputs": [],
   "source": [],
   "metadata": {
    "collapsed": false
   }
  }
 ],
 "metadata": {
  "kernelspec": {
   "display_name": "Python 3",
   "language": "python",
   "name": "python3"
  },
  "language_info": {
   "codemirror_mode": {
    "name": "ipython",
    "version": 2
   },
   "file_extension": ".py",
   "mimetype": "text/x-python",
   "name": "python",
   "nbconvert_exporter": "python",
   "pygments_lexer": "ipython2",
   "version": "2.7.6"
  }
 },
 "nbformat": 4,
 "nbformat_minor": 0
}
