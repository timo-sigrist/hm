{
 "cells": [
  {
   "cell_type": "code",
   "execution_count": 5,
   "metadata": {
    "collapsed": true
   },
   "outputs": [
    {
     "data": {
      "text/plain": "array([-0.99968,  1.     ,  0.99984])"
     },
     "execution_count": 5,
     "metadata": {},
     "output_type": "execute_result"
    }
   ],
   "source": [
    "import numpy as np\n",
    "import sys\n",
    "\n",
    "def matrix_solver(n, A, b):\n",
    "    # Making numpy array of n size and initializing\n",
    "    # to zero for storing solution vector\n",
    "    x = np.zeros(n)\n",
    "\n",
    "    # Append vector b to matrix A\n",
    "    A = np.c_[A, b]\n",
    "\n",
    "    # Applying Gauss Elimination\n",
    "    for i in range(n):\n",
    "        if A[i][i] == 0.0:\n",
    "            sys.exit('Divide by zero detected!')\n",
    "\n",
    "        for j in range(i+1, n):\n",
    "            ratio = A[j][i] / A[i][i]\n",
    "\n",
    "            for k in range(n+1):\n",
    "                A[j][k] = A[j][k] - ratio * A[i][k]\n",
    "\n",
    "    # Back Substitution\n",
    "    x[n-1] = A[n - 1][n] / A[n - 1][n - 1]\n",
    "\n",
    "    for i in range(n-2,-1,-1):\n",
    "        x[i] = A[i][n]\n",
    "\n",
    "        for j in range(i+1,n):\n",
    "            x[i] = x[i] - A[i][j] * x[j]\n",
    "\n",
    "        x[i] = x[i] / A[i][i]\n",
    "\n",
    "    return x\n",
    "\n",
    "\n",
    "A = np.array([[1,0,2],[0,1,0],[10**-4,0,10**-4]])\n",
    "b = np.array([1,1,0.000000016])\n",
    "matrix_solver(3, A, b)"
   ]
  },
  {
   "cell_type": "code",
   "execution_count": null,
   "outputs": [],
   "source": [],
   "metadata": {
    "collapsed": false
   }
  }
 ],
 "metadata": {
  "kernelspec": {
   "display_name": "Python 3",
   "language": "python",
   "name": "python3"
  },
  "language_info": {
   "codemirror_mode": {
    "name": "ipython",
    "version": 2
   },
   "file_extension": ".py",
   "mimetype": "text/x-python",
   "name": "python",
   "nbconvert_exporter": "python",
   "pygments_lexer": "ipython2",
   "version": "2.7.6"
  }
 },
 "nbformat": 4,
 "nbformat_minor": 0
}
