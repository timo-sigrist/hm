{
 "cells": [
  {
   "cell_type": "code",
   "execution_count": 25,
   "metadata": {
    "collapsed": true
   },
   "outputs": [
    {
     "name": "stdout",
     "output_type": "stream",
     "text": [
      "Newton-Verfahren\n",
      "h0: 7.658217376951713\n",
      "h1: 8.014876532191066\n",
      "h2: 8.03707967743404\n",
      "--------------------------------\n",
      "Vergleich mit Nachrechnung vom Volumen:\n",
      "470.99999991489875 = 471\n"
     ]
    }
   ],
   "source": [
    "import numpy as np\n",
    "\n",
    "d = 10\n",
    "V = 523.5987755982989\n",
    "max_fuellung = 471\n",
    "r = d/2\n",
    "\n",
    "def f(h):\n",
    "    return (np.pi/3) * h**2 * (3*r-h) - max_fuellung\n",
    "\n",
    "def f_abl(h):\n",
    "    return ((2*np.pi * (3*r-h) * h) / 3) - ((np.pi*h**2) / 3)\n",
    "\n",
    "def x_plus_newton(x):\n",
    "    return x - f(x)/f_abl(x)\n",
    "\n",
    "print('Newton-Verfahren')\n",
    "n = 0\n",
    "fehlertoleranz = 10**-3\n",
    "h0 = 9\n",
    "h1 = x_plus_newton(h0)\n",
    "while np.absolute(h0 - h1) > fehlertoleranz:\n",
    "    zwischenvar = x_plus_newton(h1)\n",
    "    h0 = h1\n",
    "    h1 = zwischenvar\n",
    "    print('h'+ str(n) + ': ' + str(h0))\n",
    "    n += 1\n",
    "\n",
    "print('--------------------------------')\n",
    "\n",
    "def volumen(h):\n",
    "    return (np.pi/3)*h**2 * (3*r - h)\n",
    "\n",
    "print('Vergleich mit Nachrechnung vom Volumen:')\n",
    "print(str(volumen(h1)) + ' = ' + str(max_fuellung))"
   ]
  },
  {
   "cell_type": "code",
   "execution_count": null,
   "outputs": [],
   "source": [],
   "metadata": {
    "collapsed": false
   }
  }
 ],
 "metadata": {
  "kernelspec": {
   "display_name": "Python 3",
   "language": "python",
   "name": "python3"
  },
  "language_info": {
   "codemirror_mode": {
    "name": "ipython",
    "version": 2
   },
   "file_extension": ".py",
   "mimetype": "text/x-python",
   "name": "python",
   "nbconvert_exporter": "python",
   "pygments_lexer": "ipython2",
   "version": "2.7.6"
  }
 },
 "nbformat": 4,
 "nbformat_minor": 0
}
